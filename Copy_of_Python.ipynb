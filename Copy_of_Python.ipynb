{
  "nbformat": 4,
  "nbformat_minor": 0,
  "metadata": {
    "colab": {
      "provenance": [],
      "include_colab_link": true
    },
    "kernelspec": {
      "name": "python3",
      "display_name": "Python 3"
    },
    "language_info": {
      "name": "python"
    }
  },
  "cells": [
    {
      "cell_type": "markdown",
      "metadata": {
        "id": "view-in-github",
        "colab_type": "text"
      },
      "source": [
        "<a href=\"https://colab.research.google.com/github/Damivx/Damivx/blob/main/Copy_of_Python.ipynb\" target=\"_parent\"><img src=\"https://colab.research.google.com/assets/colab-badge.svg\" alt=\"Open In Colab\"/></a>"
      ]
    },
    {
      "cell_type": "markdown",
      "source": [
        "# Overview"
      ],
      "metadata": {
        "id": "HCDBaeoSOk-K"
      }
    },
    {
      "cell_type": "markdown",
      "source": [
        "## This notebook will cover the fundamental concepts of the Python programming language, including interactive examples and exercises."
      ],
      "metadata": {
        "id": "S6QFKcEeX-X7"
      }
    },
    {
      "cell_type": "markdown",
      "source": [
        "# Introduction to Python"
      ],
      "metadata": {
        "id": "3qtpeDLQYMZ3"
      }
    },
    {
      "cell_type": "markdown",
      "source": [
        "- INTRO\n",
        "    - What's python?\n",
        "    - Brief history\n",
        "    - What can we do with python?\n",
        "\n",
        "- Data Types\n",
        "    - Numbers\n",
        "        - Int\n",
        "        - Float\n",
        "    - String (show string methods)\n",
        "    - Boolean\n",
        "\n",
        "- Data structures\n",
        "    - Collections\n",
        "        - Lists (comprehensions..)\n",
        "        - Tuples\n",
        "        - Dictionaries\n",
        "        - Sets\n",
        "\n",
        "\n",
        "https://colab.research.google.com/github/cs231n/cs231n.github.io/blob/master/python-colab.ipynb#scrollTo=w-nZ0Sg_L9e9\n",
        "\n",
        "https://colab.research.google.com/github/data-psl/lectures2020/blob/master/notebooks/01_python_basics.ipynb#scrollTo=3EKvP6jiMZ9H\n",
        "\n"
      ],
      "metadata": {
        "id": "KZbsC8a9v30n"
      }
    },
    {
      "cell_type": "markdown",
      "source": [
        "# - High level, Interpreted, general-purpose programming language\n",
        "# - Created by Guido van Rossum and first released in 1991.\n",
        "# - Widely used among the data science community\n"
      ],
      "metadata": {
        "id": "Fx1Gh40iXca-"
      }
    },
    {
      "cell_type": "markdown",
      "source": [
        "## Running your first program"
      ],
      "metadata": {
        "id": "UxTNmllcHiZp"
      }
    },
    {
      "cell_type": "code",
      "source": [
        "print(\"Hello, AI-General-Assembly!\")"
      ],
      "metadata": {
        "id": "4rnMkdHvwkfo",
        "colab": {
          "base_uri": "https://localhost:8080/"
        },
        "outputId": "5729030c-91ff-4ab3-b3fa-729deb9ef03d"
      },
      "execution_count": null,
      "outputs": [
        {
          "output_type": "stream",
          "name": "stdout",
          "text": [
            "Hello, AI-General-Assembly!\n"
          ]
        }
      ]
    },
    {
      "cell_type": "markdown",
      "source": [
        "## Making inline comments"
      ],
      "metadata": {
        "id": "2R0_L-mlHJoC"
      }
    },
    {
      "cell_type": "code",
      "source": [
        "# print(\"Hello,  AI-General-Assembly!\")"
      ],
      "metadata": {
        "id": "bLfvvr-jxryc"
      },
      "execution_count": null,
      "outputs": []
    },
    {
      "cell_type": "markdown",
      "source": [
        "## Data Types"
      ],
      "metadata": {
        "id": "K2fexbhUOYgJ"
      }
    },
    {
      "cell_type": "markdown",
      "source": [
        "### Numbers"
      ],
      "metadata": {
        "id": "63EEJrRQxB24"
      }
    },
    {
      "cell_type": "code",
      "source": [
        "x = 5\n",
        "y = x\n",
        "print(y)"
      ],
      "metadata": {
        "id": "FgzAbi4UOr5A",
        "colab": {
          "base_uri": "https://localhost:8080/"
        },
        "outputId": "e7218bda-de5c-4bef-ce79-0eaa0092eaed"
      },
      "execution_count": null,
      "outputs": [
        {
          "output_type": "stream",
          "name": "stdout",
          "text": [
            "5\n"
          ]
        }
      ]
    },
    {
      "cell_type": "code",
      "source": [
        "print(type(x))"
      ],
      "metadata": {
        "id": "sbWg8nV-pdy-",
        "colab": {
          "base_uri": "https://localhost:8080/"
        },
        "outputId": "7a42e7bf-d888-4317-f315-99d2e47d7bcf"
      },
      "execution_count": null,
      "outputs": [
        {
          "output_type": "stream",
          "name": "stdout",
          "text": [
            "<class 'int'>\n"
          ]
        }
      ]
    },
    {
      "cell_type": "code",
      "source": [
        "x = 2\n",
        "print(x)"
      ],
      "metadata": {
        "id": "EvpqXMn7xIqi",
        "colab": {
          "base_uri": "https://localhost:8080/"
        },
        "outputId": "dde5568e-48d9-4e2d-f9d7-bb36e2d66987"
      },
      "execution_count": null,
      "outputs": [
        {
          "output_type": "stream",
          "name": "stdout",
          "text": [
            "2\n"
          ]
        }
      ]
    },
    {
      "cell_type": "code",
      "source": [
        "print(type(x))"
      ],
      "metadata": {
        "id": "XUzpK3RgxMYG",
        "colab": {
          "base_uri": "https://localhost:8080/"
        },
        "outputId": "854f57c7-5823-4593-fd18-17d86e435a5e"
      },
      "execution_count": null,
      "outputs": [
        {
          "output_type": "stream",
          "name": "stdout",
          "text": [
            "<class 'int'>\n"
          ]
        }
      ]
    },
    {
      "cell_type": "markdown",
      "source": [
        "### Basic Arithmetics"
      ],
      "metadata": {
        "id": "BfNWCfScxUa0"
      }
    },
    {
      "cell_type": "code",
      "source": [
        "a = 10\n",
        "b = 5\n",
        "print(a + b) # Addition\n",
        "print(a - b) # Subtraction\n",
        "print(a * b) # Multiplication\n",
        "print(a / b) # Division\n",
        "print(a ** b) # Exponentiation"
      ],
      "metadata": {
        "id": "kOXl3o-MxY-t",
        "colab": {
          "base_uri": "https://localhost:8080/"
        },
        "outputId": "71038f1b-46a0-4501-c84a-e6b897d5b960"
      },
      "execution_count": null,
      "outputs": [
        {
          "output_type": "stream",
          "name": "stdout",
          "text": [
            "15\n",
            "5\n",
            "50\n",
            "2.0\n",
            "100000\n"
          ]
        }
      ]
    },
    {
      "cell_type": "markdown",
      "source": [
        "### Booleans"
      ],
      "metadata": {
        "id": "CcZ9lNjaxgn-"
      }
    },
    {
      "cell_type": "code",
      "source": [
        "x = True\n",
        "print(type(x))"
      ],
      "metadata": {
        "colab": {
          "base_uri": "https://localhost:8080/"
        },
        "id": "q4_eCGdmyF1S",
        "outputId": "88605f76-6c29-4d2c-b550-6c137c2375fd"
      },
      "execution_count": null,
      "outputs": [
        {
          "output_type": "stream",
          "name": "stdout",
          "text": [
            "<class 'bool'>\n"
          ]
        }
      ]
    },
    {
      "cell_type": "code",
      "source": [
        "y = False\n",
        "print(y)"
      ],
      "metadata": {
        "id": "E386s7Ya8TZo",
        "colab": {
          "base_uri": "https://localhost:8080/"
        },
        "outputId": "4b96a554-1640-4e31-fb41-1e54765908cc"
      },
      "execution_count": null,
      "outputs": [
        {
          "output_type": "stream",
          "name": "stdout",
          "text": [
            "False\n"
          ]
        }
      ]
    },
    {
      "cell_type": "code",
      "source": [
        "print(x == y)\n",
        "print(x != y)"
      ],
      "metadata": {
        "id": "llg-VeB-MRd4",
        "colab": {
          "base_uri": "https://localhost:8080/"
        },
        "outputId": "392cf6ee-b9f5-480c-99d1-3b24cd2ae60b"
      },
      "execution_count": null,
      "outputs": [
        {
          "output_type": "stream",
          "name": "stdout",
          "text": [
            "False\n",
            "True\n"
          ]
        }
      ]
    },
    {
      "cell_type": "code",
      "source": [
        "print(not x)"
      ],
      "metadata": {
        "id": "nz6m8kJZMUXy",
        "colab": {
          "base_uri": "https://localhost:8080/"
        },
        "outputId": "8f5d4c54-33e9-4cb6-c018-bce9c7e663fe"
      },
      "execution_count": null,
      "outputs": [
        {
          "output_type": "stream",
          "name": "stdout",
          "text": [
            "False\n"
          ]
        }
      ]
    },
    {
      "cell_type": "code",
      "source": [
        "print(not y)"
      ],
      "metadata": {
        "id": "MuUbru-cMec2",
        "colab": {
          "base_uri": "https://localhost:8080/"
        },
        "outputId": "f374deb2-55d9-477c-c26b-8345b847a929"
      },
      "execution_count": null,
      "outputs": [
        {
          "output_type": "stream",
          "name": "stdout",
          "text": [
            "True\n"
          ]
        }
      ]
    },
    {
      "cell_type": "code",
      "source": [
        "print(x and y)"
      ],
      "metadata": {
        "id": "jvprCrx9MfTy",
        "colab": {
          "base_uri": "https://localhost:8080/"
        },
        "outputId": "97b172a7-00b5-477e-b54d-6e3100b5d639"
      },
      "execution_count": null,
      "outputs": [
        {
          "output_type": "stream",
          "name": "stdout",
          "text": [
            "False\n"
          ]
        }
      ]
    },
    {
      "cell_type": "code",
      "source": [
        "print(x or y)"
      ],
      "metadata": {
        "id": "ZPqgz0jlMhls",
        "colab": {
          "base_uri": "https://localhost:8080/"
        },
        "outputId": "e14665a2-9783-4bda-f651-e104a7b78d3d"
      },
      "execution_count": null,
      "outputs": [
        {
          "output_type": "stream",
          "name": "stdout",
          "text": [
            "True\n"
          ]
        }
      ]
    },
    {
      "cell_type": "markdown",
      "source": [
        "### Strings"
      ],
      "metadata": {
        "id": "q8tfK4wUMiVf"
      }
    },
    {
      "cell_type": "code",
      "source": [
        "str1 = \"Hello\"\n",
        "str2 = \"AI-General-Assembly\""
      ],
      "metadata": {
        "id": "60208CwaPgL2"
      },
      "execution_count": null,
      "outputs": []
    },
    {
      "cell_type": "code",
      "source": [
        "print(str1)\n",
        "print(str2)"
      ],
      "metadata": {
        "id": "nvkQKU04P43y",
        "colab": {
          "base_uri": "https://localhost:8080/"
        },
        "outputId": "5ba3c751-c48e-484e-c473-fe965267531c"
      },
      "execution_count": null,
      "outputs": [
        {
          "output_type": "stream",
          "name": "stdout",
          "text": [
            "Hello\n",
            "AI-General-Assembly\n"
          ]
        }
      ]
    },
    {
      "cell_type": "code",
      "source": [
        "print(type(str1))"
      ],
      "metadata": {
        "id": "f62DaKVkP8RM",
        "colab": {
          "base_uri": "https://localhost:8080/"
        },
        "outputId": "cfc7ff64-80b2-4c68-b6d0-ea80a5ea483b"
      },
      "execution_count": null,
      "outputs": [
        {
          "output_type": "stream",
          "name": "stdout",
          "text": [
            "<class 'str'>\n"
          ]
        }
      ]
    },
    {
      "cell_type": "code",
      "source": [
        "print(str1 + str2)"
      ],
      "metadata": {
        "id": "ICTZ8ZGVP-Vh",
        "colab": {
          "base_uri": "https://localhost:8080/"
        },
        "outputId": "e7f2ee16-4db6-4a62-ab16-a2c838335d8f"
      },
      "execution_count": null,
      "outputs": [
        {
          "output_type": "stream",
          "name": "stdout",
          "text": [
            "HelloAI-General-Assembly\n"
          ]
        }
      ]
    },
    {
      "cell_type": "code",
      "source": [
        "print(str1 + \" \" + str2)"
      ],
      "metadata": {
        "id": "n8Cs6ibNQJ8a",
        "colab": {
          "base_uri": "https://localhost:8080/"
        },
        "outputId": "3983a842-190c-4260-9d01-1eefd9b53d68"
      },
      "execution_count": null,
      "outputs": [
        {
          "output_type": "stream",
          "name": "stdout",
          "text": [
            "Hello AI-General-Assembly\n"
          ]
        }
      ]
    },
    {
      "cell_type": "code",
      "source": [
        "myname = \"Sowunmi Olamide\"\n",
        "print(f\"Hello {myname}\")"
      ],
      "metadata": {
        "colab": {
          "base_uri": "https://localhost:8080/"
        },
        "id": "VBTjMK3oeMGq",
        "outputId": "4822dddf-8b62-4272-d1d5-c7be08ae051f"
      },
      "execution_count": null,
      "outputs": [
        {
          "output_type": "stream",
          "name": "stdout",
          "text": [
            "Hello Sowunmi Olamide\n"
          ]
        }
      ]
    },
    {
      "cell_type": "code",
      "source": [
        "print(f\"{str1} {str2}\")"
      ],
      "metadata": {
        "id": "NgaUrLYMQDv7",
        "colab": {
          "base_uri": "https://localhost:8080/"
        },
        "outputId": "9bce59cb-4854-43f9-e9ee-1b512c7c27f9"
      },
      "execution_count": null,
      "outputs": [
        {
          "output_type": "stream",
          "name": "stdout",
          "text": [
            "Hello AI-General-Assembly\n"
          ]
        }
      ]
    },
    {
      "cell_type": "code",
      "source": [
        "len(str1)"
      ],
      "metadata": {
        "colab": {
          "base_uri": "https://localhost:8080/"
        },
        "id": "iJwl7PPXeXBC",
        "outputId": "757b542c-5b27-4ad7-c67d-f9847d4e8a96"
      },
      "execution_count": null,
      "outputs": [
        {
          "output_type": "execute_result",
          "data": {
            "text/plain": [
              "5"
            ]
          },
          "metadata": {},
          "execution_count": 23
        }
      ]
    },
    {
      "cell_type": "code",
      "source": [
        "print(len(str1))"
      ],
      "metadata": {
        "id": "YKhU7Ifurogw",
        "colab": {
          "base_uri": "https://localhost:8080/"
        },
        "outputId": "b3e40ed9-fe30-48c2-97c4-a3e14b095410"
      },
      "execution_count": null,
      "outputs": [
        {
          "output_type": "stream",
          "name": "stdout",
          "text": [
            "5\n"
          ]
        }
      ]
    },
    {
      "cell_type": "code",
      "source": [
        "s = \"hello\"\n",
        "s.replace(\"h\", \"t\")"
      ],
      "metadata": {
        "colab": {
          "base_uri": "https://localhost:8080/",
          "height": 35
        },
        "id": "0zwuHsXJei2s",
        "outputId": "4847e8eb-c4bd-469d-8788-c617cee98541"
      },
      "execution_count": null,
      "outputs": [
        {
          "output_type": "execute_result",
          "data": {
            "text/plain": [
              "'tello'"
            ],
            "application/vnd.google.colaboratory.intrinsic+json": {
              "type": "string"
            }
          },
          "metadata": {},
          "execution_count": 26
        }
      ]
    },
    {
      "cell_type": "code",
      "source": [
        "print(str1.upper())\n",
        "print(str1.capitalize())\n",
        "print(str1.split('e'))\n",
        "print(str1.replace('e', 'a'))"
      ],
      "metadata": {
        "id": "jzM8pCisQuVG",
        "colab": {
          "base_uri": "https://localhost:8080/"
        },
        "outputId": "402cbe05-cf15-46d9-e3a8-1457d24c8b7a"
      },
      "execution_count": null,
      "outputs": [
        {
          "output_type": "stream",
          "name": "stdout",
          "text": [
            "HELLO\n",
            "Hello\n",
            "['H', 'llo']\n",
            "Hallo\n"
          ]
        }
      ]
    },
    {
      "cell_type": "markdown",
      "source": [
        "### Type casting"
      ],
      "metadata": {
        "id": "xLrvyX3nsNNt"
      }
    },
    {
      "cell_type": "code",
      "source": [
        "x = \"5\"\n",
        "\n",
        "print(x + str(3))"
      ],
      "metadata": {
        "colab": {
          "base_uri": "https://localhost:8080/"
        },
        "id": "uemXusw4fRPG",
        "outputId": "45bf244b-ee5b-45df-9bed-51322301b7b7"
      },
      "execution_count": null,
      "outputs": [
        {
          "output_type": "stream",
          "name": "stdout",
          "text": [
            "53\n"
          ]
        }
      ]
    },
    {
      "cell_type": "code",
      "source": [
        "x = [1,2,3,4,5]\n",
        "s = [\"A\", \"B\", \"C\"]\n",
        "\n",
        "b = [1, \"B\"]\n",
        "\n",
        "print(b)"
      ],
      "metadata": {
        "colab": {
          "base_uri": "https://localhost:8080/"
        },
        "id": "0dJAmHq8gV11",
        "outputId": "be4b52df-ab3d-4973-c60a-4142c781cdf5"
      },
      "execution_count": null,
      "outputs": [
        {
          "output_type": "stream",
          "name": "stdout",
          "text": [
            "[1, 'B']\n"
          ]
        }
      ]
    },
    {
      "cell_type": "code",
      "source": [],
      "metadata": {
        "id": "2Y09uy6jgv-k"
      },
      "execution_count": null,
      "outputs": []
    },
    {
      "cell_type": "code",
      "source": [
        "list(x)"
      ],
      "metadata": {
        "id": "rjw_NUmKg4D4",
        "colab": {
          "base_uri": "https://localhost:8080/"
        },
        "outputId": "bd97ff7f-849c-4603-ef36-00dea275bf08"
      },
      "execution_count": null,
      "outputs": [
        {
          "output_type": "execute_result",
          "data": {
            "text/plain": [
              "[1, 2, 3, 4, 5]"
            ]
          },
          "metadata": {},
          "execution_count": 30
        }
      ]
    },
    {
      "cell_type": "code",
      "source": [
        "x = [1,2,3,4,5,3,2,1]\n",
        "print(type(x))\n",
        "print(x)\n",
        "x = set(x)\n",
        "print(type(x))\n",
        "print(x)"
      ],
      "metadata": {
        "colab": {
          "base_uri": "https://localhost:8080/"
        },
        "id": "gbH6cSxcsN8j",
        "outputId": "e1b7a73e-e7aa-4f4b-c6e4-645393c823ec"
      },
      "execution_count": null,
      "outputs": [
        {
          "output_type": "stream",
          "name": "stdout",
          "text": [
            "<class 'list'>\n",
            "[1, 2, 3, 4, 5, 3, 2, 1]\n",
            "<class 'set'>\n",
            "{1, 2, 3, 4, 5}\n"
          ]
        }
      ]
    },
    {
      "cell_type": "code",
      "source": [
        "x = [1,2,3,4,5,3,2,1]\n",
        "print()"
      ],
      "metadata": {
        "colab": {
          "base_uri": "https://localhost:8080/"
        },
        "id": "B6qEtZ-VhWbD",
        "outputId": "efb03026-47c9-4a5c-b5e8-fea4d49025cc"
      },
      "execution_count": null,
      "outputs": [
        {
          "output_type": "stream",
          "name": "stdout",
          "text": [
            "\n"
          ]
        }
      ]
    },
    {
      "cell_type": "code",
      "source": [
        "str1 = \"Otmane\"\n",
        "print(list(str1))"
      ],
      "metadata": {
        "colab": {
          "base_uri": "https://localhost:8080/"
        },
        "id": "5Jj-tW-Tv_wE",
        "outputId": "8844eb02-9399-4040-a374-906ba88999dc"
      },
      "execution_count": null,
      "outputs": [
        {
          "output_type": "stream",
          "name": "stdout",
          "text": [
            "['O', 't', 'm', 'a', 'n', 'e']\n"
          ]
        }
      ]
    },
    {
      "cell_type": "markdown",
      "source": [
        "## Data Structures"
      ],
      "metadata": {
        "id": "83JsqQycMl3a"
      }
    },
    {
      "cell_type": "markdown",
      "source": [
        "### Lists"
      ],
      "metadata": {
        "id": "_-7lmBHfRv2K"
      }
    },
    {
      "cell_type": "code",
      "source": [
        "mylist = [1,2,3,4,5]\n",
        "print(mylist)"
      ],
      "metadata": {
        "id": "qS028b4pRxte"
      },
      "execution_count": null,
      "outputs": []
    },
    {
      "cell_type": "code",
      "source": [
        "print(type(mylist))"
      ],
      "metadata": {
        "id": "LmFsKU1tSC4b"
      },
      "execution_count": null,
      "outputs": []
    },
    {
      "cell_type": "code",
      "source": [
        "mylist[0]"
      ],
      "metadata": {
        "id": "_nYsYh3hSEOb"
      },
      "execution_count": null,
      "outputs": []
    },
    {
      "cell_type": "code",
      "source": [
        "mylist[2]"
      ],
      "metadata": {
        "id": "HHIulqajSF-7"
      },
      "execution_count": null,
      "outputs": []
    },
    {
      "cell_type": "code",
      "source": [
        "mylist[2] = \"10\""
      ],
      "metadata": {
        "id": "N1wNu2RpSJ4O"
      },
      "execution_count": null,
      "outputs": []
    },
    {
      "cell_type": "code",
      "source": [
        "mylist"
      ],
      "metadata": {
        "id": "Ru1mHQ-3SWhC"
      },
      "execution_count": null,
      "outputs": []
    },
    {
      "cell_type": "code",
      "source": [
        "mylist.append(99)"
      ],
      "metadata": {
        "id": "uIC3qeFXSalZ"
      },
      "execution_count": null,
      "outputs": []
    },
    {
      "cell_type": "code",
      "source": [
        "mylist"
      ],
      "metadata": {
        "id": "IrqQ3v5rSdII"
      },
      "execution_count": null,
      "outputs": []
    },
    {
      "cell_type": "code",
      "source": [
        "mylist.pop()"
      ],
      "metadata": {
        "id": "35ONLRL3SeQL"
      },
      "execution_count": null,
      "outputs": []
    },
    {
      "cell_type": "code",
      "source": [
        "mylist"
      ],
      "metadata": {
        "id": "RcpMDHcGShyc"
      },
      "execution_count": null,
      "outputs": []
    },
    {
      "cell_type": "code",
      "source": [
        "mylist[-1]"
      ],
      "metadata": {
        "id": "a36Bm_DHSHve"
      },
      "execution_count": null,
      "outputs": []
    },
    {
      "cell_type": "markdown",
      "source": [
        "#### Slicing"
      ],
      "metadata": {
        "id": "OD4x7tDuSqa-"
      }
    },
    {
      "cell_type": "code",
      "source": [
        "mylist = [1,2,3,4,5,6,7]\n",
        "mylist"
      ],
      "metadata": {
        "id": "nEPq6vDcjHMN"
      },
      "execution_count": null,
      "outputs": []
    },
    {
      "cell_type": "code",
      "source": [
        "myslice = mylist[:2]\n",
        "print(myslice)"
      ],
      "metadata": {
        "id": "Ptu7zR6TSm5r"
      },
      "execution_count": null,
      "outputs": []
    },
    {
      "cell_type": "code",
      "source": [
        "mylist[2:]"
      ],
      "metadata": {
        "id": "iMfBUBJiSodK"
      },
      "execution_count": null,
      "outputs": []
    },
    {
      "cell_type": "code",
      "source": [
        "mylist[1:3]"
      ],
      "metadata": {
        "id": "S1REM9IcSuxo"
      },
      "execution_count": null,
      "outputs": []
    },
    {
      "cell_type": "code",
      "source": [
        "c = [\"Name\", \"Age\", \"Height\", \"Number\", \"Job\"]\n",
        "x = c[:3]\n",
        "print(x)"
      ],
      "metadata": {
        "id": "IoyDcF7AjzFp"
      },
      "execution_count": null,
      "outputs": []
    },
    {
      "cell_type": "code",
      "source": [
        "mylist[:]"
      ],
      "metadata": {
        "id": "OfU2CydGSwKO"
      },
      "execution_count": null,
      "outputs": []
    },
    {
      "cell_type": "code",
      "source": [
        "l = [7, 3, 0, 9]\n",
        "l[1:3]"
      ],
      "metadata": {
        "id": "T0MuYY_dkqCC"
      },
      "execution_count": null,
      "outputs": []
    },
    {
      "cell_type": "markdown",
      "source": [
        "### Dictionaries"
      ],
      "metadata": {
        "id": "hRKMxvANS29a"
      }
    },
    {
      "cell_type": "code",
      "source": [
        "d = {'name': 'Otmane', 'location': 'Rabat'}\n",
        "print(d)"
      ],
      "metadata": {
        "id": "RFTal5JblVEm"
      },
      "execution_count": null,
      "outputs": []
    },
    {
      "cell_type": "code",
      "source": [
        "print(type(d))"
      ],
      "metadata": {
        "id": "kZXjEyb4lt6K"
      },
      "execution_count": null,
      "outputs": []
    },
    {
      "cell_type": "code",
      "source": [
        "d['name']"
      ],
      "metadata": {
        "id": "RRnukL5slugK"
      },
      "execution_count": null,
      "outputs": []
    },
    {
      "cell_type": "code",
      "source": [
        "d['location']"
      ],
      "metadata": {
        "id": "vfkcsCQ0lv2n"
      },
      "execution_count": null,
      "outputs": []
    },
    {
      "cell_type": "code",
      "source": [
        "d['profession']"
      ],
      "metadata": {
        "id": "SIPqm5pElxMQ"
      },
      "execution_count": null,
      "outputs": []
    },
    {
      "cell_type": "code",
      "source": [],
      "metadata": {
        "id": "u_I1dMdXmd2u"
      },
      "execution_count": null,
      "outputs": []
    },
    {
      "cell_type": "code",
      "source": [
        "d.get('name', 'None')"
      ],
      "metadata": {
        "id": "NalUCJvRlyc8"
      },
      "execution_count": null,
      "outputs": []
    },
    {
      "cell_type": "code",
      "source": [
        "d['profession'] = 'Ai Engineer'"
      ],
      "metadata": {
        "id": "i6yYk9twl1A9"
      },
      "execution_count": null,
      "outputs": []
    },
    {
      "cell_type": "code",
      "source": [
        "print(d)"
      ],
      "metadata": {
        "id": "WbWRGxwEmBRv"
      },
      "execution_count": null,
      "outputs": []
    },
    {
      "cell_type": "markdown",
      "source": [
        "### Tuples"
      ],
      "metadata": {
        "id": "YC_199yGmCS9"
      }
    },
    {
      "cell_type": "code",
      "source": [
        "x = (1,2)\n",
        "print(x)"
      ],
      "metadata": {
        "id": "nGVNMJGepLBL"
      },
      "execution_count": null,
      "outputs": []
    },
    {
      "cell_type": "code",
      "source": [
        "print(type(x))"
      ],
      "metadata": {
        "id": "V3wFtbXGpMQ2"
      },
      "execution_count": null,
      "outputs": []
    },
    {
      "cell_type": "code",
      "source": [
        "x[0]"
      ],
      "metadata": {
        "id": "FM06JgkopP3h"
      },
      "execution_count": null,
      "outputs": []
    },
    {
      "cell_type": "code",
      "source": [
        "x[1]"
      ],
      "metadata": {
        "id": "e9cS2Y3-pTvN"
      },
      "execution_count": null,
      "outputs": []
    },
    {
      "cell_type": "code",
      "source": [
        "a = x[0]\n",
        "b = x[1]\n",
        "print(a)\n",
        "print(b)"
      ],
      "metadata": {
        "id": "_pXIiIwhpUZy"
      },
      "execution_count": null,
      "outputs": []
    },
    {
      "cell_type": "code",
      "source": [
        "d = [{'Fname': 'Velma', 'Lname': \"Nogni\"}, {'Fname': 'Otmane', 'Lname': 'Boughaba'}]\n",
        "print()"
      ],
      "metadata": {
        "id": "VsQw0r13nDEJ"
      },
      "execution_count": null,
      "outputs": []
    },
    {
      "cell_type": "code",
      "source": [
        "a = [4, 7, 9, 3]\n",
        "a[2][\"Fname\"]"
      ],
      "metadata": {
        "id": "UTB3fTpHpSQP"
      },
      "execution_count": null,
      "outputs": []
    },
    {
      "cell_type": "code",
      "source": [
        "d[1]"
      ],
      "metadata": {
        "id": "IanwZW9eoRoi"
      },
      "execution_count": null,
      "outputs": []
    },
    {
      "cell_type": "code",
      "source": [
        "print(a,b)"
      ],
      "metadata": {
        "id": "0WVWK7XIpV0H"
      },
      "execution_count": null,
      "outputs": []
    },
    {
      "cell_type": "code",
      "source": [
        "x[0] = 3"
      ],
      "metadata": {
        "id": "wK1wy-n4pWsz"
      },
      "execution_count": null,
      "outputs": []
    },
    {
      "cell_type": "markdown",
      "source": [
        "### Sets"
      ],
      "metadata": {
        "id": "yA9hZ63OqzQq"
      }
    },
    {
      "cell_type": "code",
      "source": [
        "x = {3, 8}\n",
        "print(x)"
      ],
      "metadata": {
        "id": "CKotCroHqyhQ"
      },
      "execution_count": null,
      "outputs": []
    },
    {
      "cell_type": "code",
      "source": [
        "print(type(x))"
      ],
      "metadata": {
        "id": "M2bc-7QPrdCJ"
      },
      "execution_count": null,
      "outputs": []
    },
    {
      "cell_type": "code",
      "source": [
        "x = {3, 8, 23, 8}\n",
        "print(x)"
      ],
      "metadata": {
        "id": "6P_6rx8OrfRe"
      },
      "execution_count": null,
      "outputs": []
    },
    {
      "cell_type": "code",
      "source": [
        "x.add(55)\n",
        "x.remove(3)"
      ],
      "metadata": {
        "id": "bHxXButRrwjv"
      },
      "execution_count": null,
      "outputs": []
    },
    {
      "cell_type": "code",
      "source": [
        "l = [5, 3, 0]\n",
        "l[1] = 7\n",
        "print(l)"
      ],
      "metadata": {
        "id": "pHcf68qup4qe"
      },
      "execution_count": null,
      "outputs": []
    },
    {
      "cell_type": "code",
      "source": [
        "print(x)"
      ],
      "metadata": {
        "id": "5l74oWKnqVOy"
      },
      "execution_count": null,
      "outputs": []
    },
    {
      "cell_type": "code",
      "source": [
        "print(55 in x)\n",
        "print(3 in x)\n",
        "print(90 in x)"
      ],
      "metadata": {
        "id": "NfcfPgu_r55k"
      },
      "execution_count": null,
      "outputs": []
    },
    {
      "cell_type": "markdown",
      "source": [
        "## Variable naming"
      ],
      "metadata": {
        "id": "tLCGce2dpbLb"
      }
    },
    {
      "cell_type": "code",
      "source": [
        "num_list = [1,2,3,4]\n",
        "print(num_list)\n"
      ],
      "metadata": {
        "id": "QQ0nW27wqd9h",
        "colab": {
          "base_uri": "https://localhost:8080/"
        },
        "outputId": "f4be90a0-5669-4a40-945c-0ba1af413fc7"
      },
      "execution_count": null,
      "outputs": [
        {
          "output_type": "stream",
          "name": "stdout",
          "text": [
            "[1, 2, 3, 4]\n"
          ]
        }
      ]
    },
    {
      "cell_type": "code",
      "source": [
        "del num_list"
      ],
      "metadata": {
        "id": "bYHg8ohxtSTm"
      },
      "execution_count": null,
      "outputs": []
    },
    {
      "cell_type": "code",
      "source": [
        "num_list"
      ],
      "metadata": {
        "colab": {
          "base_uri": "https://localhost:8080/",
          "height": 141
        },
        "id": "aVtU7KG9s_OI",
        "outputId": "e42b3cbc-f5ad-410e-ee03-32b30c061450"
      },
      "execution_count": null,
      "outputs": [
        {
          "output_type": "error",
          "ename": "NameError",
          "evalue": "name 'num_list' is not defined",
          "traceback": [
            "\u001b[0;31m---------------------------------------------------------------------------\u001b[0m",
            "\u001b[0;31mNameError\u001b[0m                                 Traceback (most recent call last)",
            "\u001b[0;32m<ipython-input-36-206d2d312a80>\u001b[0m in \u001b[0;36m<cell line: 1>\u001b[0;34m()\u001b[0m\n\u001b[0;32m----> 1\u001b[0;31m \u001b[0mnum_list\u001b[0m\u001b[0;34m\u001b[0m\u001b[0;34m\u001b[0m\u001b[0m\n\u001b[0m",
            "\u001b[0;31mNameError\u001b[0m: name 'num_list' is not defined"
          ]
        }
      ]
    },
    {
      "cell_type": "code",
      "source": [
        "s = \"Hello\"\n",
        "print(list(s))"
      ],
      "metadata": {
        "id": "xls31-PWqxQx",
        "colab": {
          "base_uri": "https://localhost:8080/"
        },
        "outputId": "c1434c4f-3949-419b-fd1c-40674b909248"
      },
      "execution_count": null,
      "outputs": [
        {
          "output_type": "stream",
          "name": "stdout",
          "text": [
            "['H', 'e', 'l', 'l', 'o']\n"
          ]
        }
      ]
    },
    {
      "cell_type": "code",
      "source": [
        "123 = \"Hello\"\n",
        "--x = 5\n",
        "$*x = 1\n",
        "class = 4\n",
        "list = 5"
      ],
      "metadata": {
        "id": "OzFmNxJKpdTD"
      },
      "execution_count": null,
      "outputs": []
    },
    {
      "cell_type": "markdown",
      "source": [
        "## Exercises"
      ],
      "metadata": {
        "id": "BuRLo91-zMSf"
      }
    },
    {
      "cell_type": "markdown",
      "source": [
        "### Print your name + location"
      ],
      "metadata": {
        "id": "px7HOYSvzOt8"
      }
    },
    {
      "cell_type": "code",
      "source": [],
      "metadata": {
        "id": "kRby2CGF1hsU"
      },
      "execution_count": null,
      "outputs": []
    },
    {
      "cell_type": "markdown",
      "source": [
        "Calculate the area of the circle using the formula: area = 22/7 * r^2\n",
        "\n",
        "r = 1.1\n",
        "\n",
        "Ans: Area = 3.8013271108436504"
      ],
      "metadata": {
        "id": "NjmBKiRXviWv"
      }
    },
    {
      "cell_type": "code",
      "source": [],
      "metadata": {
        "id": "j4CBnw_ZxUh2"
      },
      "execution_count": null,
      "outputs": []
    },
    {
      "cell_type": "markdown",
      "source": [
        "Check the datatype of this v\n",
        "\n",
        "Area = 3.8013271108436504"
      ],
      "metadata": {
        "id": "XeAF2lyeiRem"
      }
    },
    {
      "cell_type": "code",
      "source": [],
      "metadata": {
        "id": "PwnXN0BeD8Y5"
      },
      "execution_count": null,
      "outputs": []
    }
  ]
}